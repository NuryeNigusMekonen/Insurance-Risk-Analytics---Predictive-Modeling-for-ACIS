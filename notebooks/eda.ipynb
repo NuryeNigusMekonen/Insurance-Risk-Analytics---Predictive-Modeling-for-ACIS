{
 "cells": [
  {
   "cell_type": "code",
   "execution_count": 3,
   "id": "5de208d6",
   "metadata": {},
   "outputs": [],
   "source": [
    "import pandas as pd\n",
    "import sys\n",
    "import os\n",
    "sys.path.append(os.path.abspath(\"..\"))\n",
    "from src.eda import (\n",
    "    load_data,\n",
    "    summarize_data,\n",
    "    check_missing,\n",
    "    plot_distributions,\n",
    "    analyze_loss_ratio,\n",
    "    correlation_analysis,\n",
    "    temporal_trends,\n",
    "    top_vehicle_risks,\n",
    "    detect_outliers,\n",
    "    postalcode_analysis,\n",
    "    skewness_summary\n",
    ")\n"
   ]
  },
  {
   "cell_type": "code",
   "execution_count": 4,
   "id": "7a8abd5b",
   "metadata": {},
   "outputs": [],
   "source": [
    "# load data \n",
    "df = load_data('../data/cleaned_machineLearningRating.csv')\n"
   ]
  },
  {
   "cell_type": "code",
   "execution_count": 5,
   "id": "90c52c76",
   "metadata": {},
   "outputs": [
    {
     "name": "stdout",
     "output_type": "stream",
     "text": [
      "\n",
      "--- Data Info ---\n",
      "<class 'pandas.core.frame.DataFrame'>\n",
      "RangeIndex: 998448 entries, 0 to 998447\n",
      "Data columns (total 47 columns):\n",
      " #   Column                    Non-Null Count   Dtype         \n",
      "---  ------                    --------------   -----         \n",
      " 0   RecordID                  998448 non-null  int64         \n",
      " 1   UnderwrittenCoverID       998448 non-null  int64         \n",
      " 2   PolicyID                  998448 non-null  int64         \n",
      " 3   TransactionMonth          998448 non-null  datetime64[ns]\n",
      " 4   IsVATRegistered           998448 non-null  bool          \n",
      " 5   LegalType                 998448 non-null  object        \n",
      " 6   Title                     998448 non-null  object        \n",
      " 7   Bank                      998448 non-null  object        \n",
      " 8   AccountType               998448 non-null  object        \n",
      " 9   Gender                    998448 non-null  object        \n",
      " 10  Country                   998448 non-null  object        \n",
      " 11  Province                  998448 non-null  object        \n",
      " 12  PostalCode                998448 non-null  int64         \n",
      " 13  MainCrestaZone            998448 non-null  object        \n",
      " 14  SubCrestaZone             998448 non-null  object        \n",
      " 15  ItemType                  998448 non-null  object        \n",
      " 16  mmcode                    998448 non-null  float64       \n",
      " 17  VehicleType               998448 non-null  object        \n",
      " 18  RegistrationYear          998448 non-null  int64         \n",
      " 19  make                      998448 non-null  object        \n",
      " 20  Model                     998448 non-null  object        \n",
      " 21  Cylinders                 998448 non-null  float64       \n",
      " 22  cubiccapacity             998448 non-null  float64       \n",
      " 23  kilowatts                 998448 non-null  float64       \n",
      " 24  bodytype                  998448 non-null  object        \n",
      " 25  NumberOfDoors             998448 non-null  float64       \n",
      " 26  VehicleIntroDate          998448 non-null  datetime64[ns]\n",
      " 27  AlarmImmobiliser          998448 non-null  object        \n",
      " 28  TrackingDevice            998448 non-null  object        \n",
      " 29  CapitalOutstanding        998448 non-null  float64       \n",
      " 30  NewVehicle                998448 non-null  bool          \n",
      " 31  WrittenOff                998448 non-null  bool          \n",
      " 32  Rebuilt                   998448 non-null  bool          \n",
      " 33  Converted                 998448 non-null  bool          \n",
      " 34  SumInsured                998448 non-null  float64       \n",
      " 35  TermFrequency             998448 non-null  object        \n",
      " 36  CalculatedPremiumPerTerm  998448 non-null  float64       \n",
      " 37  ExcessSelected            998448 non-null  object        \n",
      " 38  CoverCategory             998448 non-null  object        \n",
      " 39  CoverType                 998448 non-null  object        \n",
      " 40  CoverGroup                998448 non-null  object        \n",
      " 41  Section                   998448 non-null  object        \n",
      " 42  Product                   998448 non-null  object        \n",
      " 43  StatutoryClass            998448 non-null  object        \n",
      " 44  StatutoryRiskType         998448 non-null  object        \n",
      " 45  TotalPremium              998448 non-null  float64       \n",
      " 46  TotalClaims               998448 non-null  float64       \n",
      "dtypes: bool(5), datetime64[ns](2), float64(10), int64(5), object(25)\n",
      "memory usage: 324.7+ MB\n",
      "None\n",
      "\n",
      "--- Descriptive Statistics (Numerical) ---\n",
      "                             count                           mean  \\\n",
      "RecordID                  998448.0                  500220.962711   \n",
      "UnderwrittenCoverID       998448.0                  104879.137893   \n",
      "PolicyID                  998448.0                    7961.550619   \n",
      "TransactionMonth            998448  2015-02-28 14:07:13.796451328   \n",
      "PostalCode                998448.0                    3020.110112   \n",
      "mmcode                    998448.0                54877449.185941   \n",
      "RegistrationYear          998448.0                    2010.225395   \n",
      "Cylinders                 998448.0                        4.04669   \n",
      "cubiccapacity             998448.0                    2466.671567   \n",
      "kilowatts                 998448.0                      97.199012   \n",
      "NumberOfDoors             998448.0                       4.019275   \n",
      "VehicleIntroDate            998448  2008-04-20 12:48:15.091581952   \n",
      "CapitalOutstanding        998448.0                    61626.31016   \n",
      "SumInsured                998448.0                  603860.616071   \n",
      "CalculatedPremiumPerTerm  998448.0                     116.164675   \n",
      "TotalPremium              998448.0                      61.428633   \n",
      "TotalClaims               998448.0                      64.331349   \n",
      "\n",
      "                                          min                  25%  \\\n",
      "RecordID                                  0.0            250437.75   \n",
      "UnderwrittenCoverID                       1.0              55183.0   \n",
      "PolicyID                                 14.0               4501.0   \n",
      "TransactionMonth          2013-10-01 00:00:00  2015-01-01 00:00:00   \n",
      "PostalCode                                1.0                812.0   \n",
      "mmcode                              4041200.0           60056925.0   \n",
      "RegistrationYear                       1987.0               2008.0   \n",
      "Cylinders                                 0.0                  4.0   \n",
      "cubiccapacity                             0.0               2237.0   \n",
      "kilowatts                                 0.0                 75.0   \n",
      "NumberOfDoors                             0.0                  4.0   \n",
      "VehicleIntroDate          1977-10-01 00:00:00  2007-11-01 00:00:00   \n",
      "CapitalOutstanding                        0.0                  0.0   \n",
      "SumInsured                               0.01               5000.0   \n",
      "CalculatedPremiumPerTerm                  0.0               3.2257   \n",
      "TotalPremium                              0.0                  0.0   \n",
      "TotalClaims                     -12002.412281                  0.0   \n",
      "\n",
      "                                          50%                  75%  \\\n",
      "RecordID                             500058.5            749950.25   \n",
      "UnderwrittenCoverID                   94112.0            139215.25   \n",
      "PolicyID                               7072.0              11081.0   \n",
      "TransactionMonth          2015-04-01 00:00:00  2015-06-01 00:00:00   \n",
      "PostalCode                             2000.0               4171.0   \n",
      "mmcode                             60058415.0           60058418.0   \n",
      "RegistrationYear                       2011.0               2013.0   \n",
      "Cylinders                                 4.0                  4.0   \n",
      "cubiccapacity                          2694.0               2694.0   \n",
      "kilowatts                               111.0                111.0   \n",
      "NumberOfDoors                             4.0                  4.0   \n",
      "VehicleIntroDate          2010-10-01 00:00:00  2012-04-01 00:00:00   \n",
      "CapitalOutstanding                        0.0                  0.0   \n",
      "SumInsured                             7500.0             250000.0   \n",
      "CalculatedPremiumPerTerm               8.4369                 90.0   \n",
      "TotalPremium                         2.180175            21.929825   \n",
      "TotalClaims                               0.0                  0.0   \n",
      "\n",
      "                                          max              std  \n",
      "RecordID                            1000097.0    288451.331313  \n",
      "UnderwrittenCoverID                  301175.0     63271.207356  \n",
      "PolicyID                              23246.0      5288.287999  \n",
      "TransactionMonth          2015-08-01 00:00:00              NaN  \n",
      "PostalCode                             9870.0      2650.550511  \n",
      "mmcode                             65065350.0  13601694.779987  \n",
      "RegistrationYear                       2015.0         3.262286  \n",
      "Cylinders                                10.0         0.294173  \n",
      "cubiccapacity                         12880.0       442.883818  \n",
      "kilowatts                               309.0        19.397924  \n",
      "NumberOfDoors                             6.0         0.468563  \n",
      "VehicleIntroDate          2014-09-01 00:00:00              NaN  \n",
      "CapitalOutstanding                 28570000.0    515957.769112  \n",
      "SumInsured                         10000000.0    1507322.11411  \n",
      "CalculatedPremiumPerTerm            3051.8211       220.585309  \n",
      "TotalPremium                      2253.507281       156.988076  \n",
      "TotalClaims                     393092.105263      2369.677032  \n"
     ]
    }
   ],
   "source": [
    "# summerize data\n",
    "# data understanding we have already done it in import_clean.ipynb\n",
    "# it is Descriptive statistics for numerical vars\n",
    "summarize_data(df)\n"
   ]
  },
  {
   "cell_type": "code",
   "execution_count": 6,
   "id": "ff419a44",
   "metadata": {},
   "outputs": [
    {
     "name": "stdout",
     "output_type": "stream",
     "text": [
      "\n",
      "--- Missing Values ---\n",
      "Series([], dtype: int64)\n"
     ]
    }
   ],
   "source": [
    "#check missing values\n",
    "\n",
    "check_missing(df)"
   ]
  },
  {
   "cell_type": "code",
   "execution_count": 7,
   "id": "8458d7ad",
   "metadata": {},
   "outputs": [],
   "source": [
    "# plote distributions\n",
    "# distributions of key financial variables\n",
    "plot_distributions(df)"
   ]
  },
  {
   "cell_type": "code",
   "execution_count": 8,
   "id": "d71f9661",
   "metadata": {},
   "outputs": [],
   "source": [
    "# anaylse loss ratio\n",
    "analyze_loss_ratio(df)"
   ]
  },
  {
   "cell_type": "code",
   "execution_count": 9,
   "id": "2cbce0cc",
   "metadata": {},
   "outputs": [],
   "source": [
    "#corollation heatmap\n",
    "correlation_analysis(df)"
   ]
  },
  {
   "cell_type": "code",
   "execution_count": 10,
   "id": "cae24e1e",
   "metadata": {},
   "outputs": [],
   "source": [
    "# time trends in claims vs premiums \n",
    "#temporal trends over 18 months\n",
    "temporal_trends(df)\n"
   ]
  },
  {
   "cell_type": "code",
   "execution_count": 11,
   "id": "dd8e3f19",
   "metadata": {},
   "outputs": [],
   "source": [
    "# top vehicle makes/models by claims\n",
    "#Highest/lowest claim vehicle makes/models\n",
    "top_vehicle_risks(df)\n"
   ]
  },
  {
   "cell_type": "code",
   "execution_count": 12,
   "id": "8a1bd4b7",
   "metadata": {},
   "outputs": [],
   "source": [
    "# detect outliers\n",
    "# outlier detection( claims, customvalueestimate)\n",
    "detect_outliers(df)\n"
   ]
  },
  {
   "cell_type": "code",
   "execution_count": 13,
   "id": "49c671f9",
   "metadata": {},
   "outputs": [],
   "source": [
    "# data comparison across postal codes(zip codes)\n",
    "postalcode_analysis(df)"
   ]
  },
  {
   "cell_type": "code",
   "execution_count": 14,
   "id": "042145dd",
   "metadata": {},
   "outputs": [
    {
     "name": "stdout",
     "output_type": "stream",
     "text": [
      "\n",
      "--- Skewness of Numerical Features ---\n",
      "LossRatio                   108.394939\n",
      "TotalClaims                  70.534019\n",
      "CapitalOutstanding           51.995092\n",
      "Cylinders                     5.701417\n",
      "cubiccapacity                 3.579344\n",
      "TotalPremium                  3.550731\n",
      "CalculatedPremiumPerTerm      2.664527\n",
      "SumInsured                    2.544473\n",
      "PostalCode                    0.799108\n",
      "PolicyID                      0.737420\n",
      "UnderwrittenCoverID           0.611981\n",
      "kilowatts                     0.246102\n",
      "RecordID                      0.001187\n",
      "RegistrationYear             -0.795269\n",
      "NumberOfDoors                -2.530086\n",
      "mmcode                       -2.609409\n",
      "dtype: float64\n"
     ]
    },
    {
     "data": {
      "application/vnd.microsoft.datawrangler.viewer.v0+json": {
       "columns": [
        {
         "name": "index",
         "rawType": "object",
         "type": "string"
        },
        {
         "name": "0",
         "rawType": "float64",
         "type": "float"
        }
       ],
       "ref": "442f00f2-5e85-4dca-99b7-fd33839bee12",
       "rows": [
        [
         "LossRatio",
         "108.39493860001494"
        ],
        [
         "TotalClaims",
         "70.53401908645414"
        ],
        [
         "CapitalOutstanding",
         "51.995091866729055"
        ],
        [
         "Cylinders",
         "5.70141666910573"
        ],
        [
         "cubiccapacity",
         "3.579343503258081"
        ],
        [
         "TotalPremium",
         "3.550730825206489"
        ],
        [
         "CalculatedPremiumPerTerm",
         "2.6645270589466357"
        ],
        [
         "SumInsured",
         "2.5444728725003594"
        ],
        [
         "PostalCode",
         "0.799107690662868"
        ],
        [
         "PolicyID",
         "0.7374195246093229"
        ],
        [
         "UnderwrittenCoverID",
         "0.6119810338267724"
        ],
        [
         "kilowatts",
         "0.24610246351496343"
        ],
        [
         "RecordID",
         "0.0011873991459684318"
        ],
        [
         "RegistrationYear",
         "-0.7952694465678563"
        ],
        [
         "NumberOfDoors",
         "-2.530086464647403"
        ],
        [
         "mmcode",
         "-2.6094089805178458"
        ]
       ],
       "shape": {
        "columns": 1,
        "rows": 16
       }
      },
      "text/plain": [
       "LossRatio                   108.394939\n",
       "TotalClaims                  70.534019\n",
       "CapitalOutstanding           51.995092\n",
       "Cylinders                     5.701417\n",
       "cubiccapacity                 3.579344\n",
       "TotalPremium                  3.550731\n",
       "CalculatedPremiumPerTerm      2.664527\n",
       "SumInsured                    2.544473\n",
       "PostalCode                    0.799108\n",
       "PolicyID                      0.737420\n",
       "UnderwrittenCoverID           0.611981\n",
       "kilowatts                     0.246102\n",
       "RecordID                      0.001187\n",
       "RegistrationYear             -0.795269\n",
       "NumberOfDoors                -2.530086\n",
       "mmcode                       -2.609409\n",
       "dtype: float64"
      ]
     },
     "execution_count": 14,
     "metadata": {},
     "output_type": "execute_result"
    }
   ],
   "source": [
    "# use of statistical reasoning / distribution analysis\n",
    "skewness_summary(df)"
   ]
  }
 ],
 "metadata": {
  "kernelspec": {
   "display_name": "PM-venv",
   "language": "python",
   "name": "python3"
  },
  "language_info": {
   "codemirror_mode": {
    "name": "ipython",
    "version": 3
   },
   "file_extension": ".py",
   "mimetype": "text/x-python",
   "name": "python",
   "nbconvert_exporter": "python",
   "pygments_lexer": "ipython3",
   "version": "3.12.3"
  }
 },
 "nbformat": 4,
 "nbformat_minor": 5
}
