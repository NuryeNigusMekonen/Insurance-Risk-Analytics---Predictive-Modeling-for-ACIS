{
 "cells": [
  {
   "cell_type": "code",
   "execution_count": 1,
   "id": "7def7638",
   "metadata": {},
   "outputs": [
    {
     "name": "stdout",
     "output_type": "stream",
     "text": [
      "       ClaimOccurred  ClaimSeverity         Margin\n",
      "count  998443.000000    2773.000000  998443.000000\n",
      "mean        0.002777   23169.911350      -2.922631\n",
      "std         0.052627   38561.494622    2360.956489\n",
      "min         0.000000     139.043860 -392848.566930\n",
      "25%         0.000000    1680.728070       0.000000\n",
      "50%         0.000000    6140.350877       2.160614\n",
      "75%         0.000000   30459.649123      21.929825\n",
      "max         1.000000  393092.105263    2253.507281\n"
     ]
    }
   ],
   "source": [
    "import pandas as pd\n",
    "import numpy as np\n",
    "import sys\n",
    "import os\n",
    "sys.path.append(os.path.abspath(\"..\"))\n",
    "# Load the cleaned dataset\n",
    "from src.data_load import load_data\n",
    "df = load_data(\"../data/cleaned_machineLearningRating.csv\")\n",
    "# STEP 1: Define Key Metrics (KPIs)\n",
    "# 1. ClaimOccurred: 1 if TotalClaims > 0, else 0\n",
    "df[\"ClaimOccurred\"] = (df[\"TotalClaims\"] > 0).astype(int)\n",
    "# 2. ClaimSeverity: TotalClaims only when a claim occurred\n",
    "df[\"ClaimSeverity\"] = df[\"TotalClaims\"]\n",
    "df.loc[df[\"TotalClaims\"] == 0, \"ClaimSeverity\"] = np.nan  # only consider where claim occurred\n",
    "# 3. Margin: TotalPremium - TotalClaims\n",
    "df[\"Margin\"] = df[\"TotalPremium\"] - df[\"TotalClaims\"]\n",
    "# Optional: check for NaN or outliers before testing\n",
    "print(df[[\"ClaimOccurred\", \"ClaimSeverity\", \"Margin\"]].describe())\n"
   ]
  },
  {
   "cell_type": "markdown",
   "id": "2f638496",
   "metadata": {},
   "source": [
    "\n",
    "| Metric              | What It Measures                                  | How It’s Calculated                                                                              | Typical Use Cases                                                             |\n",
    "| ------------------- | ------------------------------------------------- | ------------------------------------------------------------------------------------------------ | ----------------------------------------------------------------------------- |\n",
    "| **Claim Frequency** | **How often** claims happen                       | `ClaimOccurred = 1 if TotalClaims > 0, else 0`         <br> Then use `mean()` to get % of claims | - Risk of **occurrence**- Fraud detection<br>- Pricing low-risk customers |\n",
    "| **Claim Severity**  | **How large** the claims are **when they happen** | `ClaimSeverity = TotalClaims`, but only where `ClaimOccurred == 1`                               | - Risk of **magnitude**<br>- Reserve planning<br>- Underwriting large risks   |\n",
    "| **Margin**         | Profitability of the insurance policy             | `Margin = TotalPremium - TotalClaims`                                                            | - Profitability analysis<br>- Pricing adjustments<br>- Risk management        |\n",
    "| **Loss Ratio**     | Proportion of claims to premiums                  | `Loss Ratio = TotalClaims / TotalPremium`                                                         | - Overall profitability<br>- Pricing adequacy<br>- Risk assessment            |"
   ]
  },
  {
   "cell_type": "code",
   "execution_count": 3,
   "id": "71443897",
   "metadata": {},
   "outputs": [
    {
     "name": "stdout",
     "output_type": "stream",
     "text": [
      "\n",
      "Contingency Table (Province vs ClaimOccurred):\n",
      "ClaimOccurred       0     1\n",
      "Province                   \n",
      "Eastern Cape    30282    50\n",
      "Free State       8088    11\n",
      "Gauteng        392012  1322\n",
      "KwaZulu-Natal  169052   483\n",
      "Limpopo         24769    67\n",
      "Mpumalanga      51970   126\n",
      "North West     142938   349\n",
      "Northern Cape    6372     8\n",
      "Western Cape   170187   357\n",
      "\n",
      "Chi-squared test results:\n",
      "Chi2 statistic: 111.2178\n",
      "Degrees of freedom: 8\n",
      "P-value: 0.000000\n"
     ]
    },
    {
     "data": {
      "text/plain": [
       "'remember The null hypothesis (H₀) says:\\n\\nThere is NO difference in risk across provinces.'"
      ]
     },
     "execution_count": 3,
     "metadata": {},
     "output_type": "execute_result"
    }
   ],
   "source": [
    "# hypothesis 1:\n",
    "# there is no risk diffeences accross provinces\n",
    "# so lets stastically stes whether claim frequency vaires vetween provinces\n",
    "\"\"\" so lets use Statistical Test (Chi-Squared)\n",
    "Why Chi-Squared?\n",
    "We're comparing categorical groups (provinces)\n",
    "Against a binary outcome (ClaimOccurred: 0 or 1)(against risk yes or not)\n",
    "Best test: Chi-squared test for independence\"\"\"\n",
    "import pandas as pd\n",
    "from scipy.stats import chi2_contingency\n",
    "# STEP 1: Create a contingency table (cross-tab)\n",
    "# Rows = Provinces, Columns = ClaimOccurred (0 or 1)\n",
    "ct = pd.crosstab(df[\"Province\"], df[\"ClaimOccurred\"])\n",
    "print(\"\\nContingency Table (Province vs ClaimOccurred):\")\n",
    "print(ct)\n",
    "# STEP 2: Run Chi-squared test\n",
    "chi2, p_value, dof, expected = chi2_contingency(ct)\n",
    "print(\"\\nChi-squared test results:\")\n",
    "print(f\"Chi2 statistic: {chi2:.4f}\")\n",
    "print(f\"Degrees of freedom: {dof}\")\n",
    "print(f\"P-value: {p_value:.6f}\")\n",
    "\n",
    "\"\"\"remember The null hypothesis (H₀) says:\n",
    "\n",
    "There is NO difference in risk across provinces.\"\"\""
   ]
  },
  {
   "cell_type": "markdown",
   "id": "d2107eae",
   "metadata": {},
   "source": [
    "# since Since the p-value is far below 0.05, we reject the null hypothesis.\n",
    "There is a statistically significant difference in claim frequency across provinces.\n",
    "This means that geographic region (Province) does affect insurance risk, \n",
    "and should be considered in pricing, risk segmentation, or underwriting strategy."
   ]
  },
  {
   "cell_type": "markdown",
   "id": "37977ebc",
   "metadata": {},
   "source": [
    "Hypothesis 2: Risk Differences Between Zip Codes What We're Testing:\n",
    "H₀ (Null Hypothesis):\n",
    "There are no risk differences between Zip Codes.eski lets test and decide\n",
    "\n",
    "lets select top 5 most common zip codes in the dataset as it is not possible to run chi-squared test with thoussands of zip codes"
   ]
  },
  {
   "cell_type": "code",
   "execution_count": null,
   "id": "3e043d23",
   "metadata": {},
   "outputs": [
    {
     "name": "stdout",
     "output_type": "stream",
     "text": [
      "Top 5 Zip Codes: [2000, 122, 7784, 299, 7405]\n",
      "\n",
      "Contingency Table (ZipCode vs ClaimOccurred):\n",
      "ClaimOccurred       0    1\n",
      "PostalCode                \n",
      "122             48961  210\n",
      "299             25479   67\n",
      "2000           132656  486\n",
      "7405            18489   29\n",
      "7784            28532   50\n",
      "\n",
      "Chi-squared test results for ZipCode:\n",
      "Chi2 statistic: 60.3943\n",
      "Degrees of freedom: 4\n",
      "P-value: 0.000000\n"
     ]
    }
   ],
   "source": [
    "# STEP 1: Get top 5 most common Zip Codes (Postal Codes)\n",
    "top_zip_codes = df[\"PostalCode\"].value_counts().head(5).index.tolist()\n",
    "print(\"Top 5 Zip Codes:\", top_zip_codes)\n",
    "# STEP 2: Filter to only those rows\n",
    "df_zip = df[df[\"PostalCode\"].isin(top_zip_codes)]\n",
    "# STEP 3: Build a contingency table: ZipCode vs ClaimOccurred\n",
    "zip_ct = pd.crosstab(df_zip[\"PostalCode\"], df_zip[\"ClaimOccurred\"])\n",
    "print(\"\\nContingency Table (ZipCode vs ClaimOccurred):\")\n",
    "print(zip_ct)\n",
    "# STEP 4: Chi-squared test\n",
    "chi2, p_value, dof, expected = chi2_contingency(zip_ct)\n",
    "\n",
    "print(\"\\nChi-squared test results for ZipCode:\")\n",
    "print(f\"Chi2 statistic: {chi2:.4f}\")\n",
    "print(f\"Degrees of freedom: {dof}\")\n",
    "print(f\"P-value: {p_value:.6f}\")\n"
   ]
  },
  {
   "cell_type": "code",
   "execution_count": 7,
   "id": "f3857cd7",
   "metadata": {},
   "outputs": [],
   "source": [
    "# so we reject the null hypothesis since p-value < 0.05\n",
    "#There is a statistically significant difference in claim frequency between Zip Codes.\n",
    "# Add a claim rate column\n"
   ]
  },
  {
   "cell_type": "code",
   "execution_count": 8,
   "id": "5cc8fb4d",
   "metadata": {},
   "outputs": [
    {
     "data": {
      "text/plain": [
       "\"We’ll do a one-way ANOVA test (Analysis of Variance):\\n\\nBecause we're comparing means of a continuous variable (Margin) across multiple groups (Zip Codes)\""
      ]
     },
     "execution_count": 8,
     "metadata": {},
     "output_type": "execute_result"
    }
   ],
   "source": [
    "#Hypothesis 3: Margin Differences Between Zip Codes\n",
    "# What We're Testing:\n",
    "# H₀ (Null Hypothesis):\n",
    "# There are no margin differences between Zip Codes.\n",
    "# we have already calculated Margin in the previous steps\n",
    "df[\"Margin\"] = df[\"TotalPremium\"] - df[\"TotalClaims\"]\n",
    "\"\"\"We’ll do a one-way ANOVA test (Analysis of Variance):\n",
    "\n",
    "Because we're comparing means of a continuous variable (Margin) across multiple groups (Zip Codes)\"\"\""
   ]
  },
  {
   "cell_type": "code",
   "execution_count": 9,
   "id": "d87fadea",
   "metadata": {},
   "outputs": [
    {
     "name": "stdout",
     "output_type": "stream",
     "text": [
      "\n",
      "ANOVA test results (Margin by Zip Code):\n",
      "F-statistic: 2.4087\n",
      "P-value: 0.047051\n"
     ]
    }
   ],
   "source": [
    "from scipy.stats import f_oneway\n",
    "\n",
    "# STEP 1: Filter top 5 Zip Codes again\n",
    "top_zip_codes = df[\"PostalCode\"].value_counts().head(5).index.tolist()\n",
    "df_zip = df[df[\"PostalCode\"].isin(top_zip_codes)]\n",
    "\n",
    "# STEP 2: Create a list of margin values per Zip Code\n",
    "grouped_margins = [\n",
    "    df_zip[df_zip[\"PostalCode\"] == z][\"Margin\"].dropna()\n",
    "    for z in top_zip_codes\n",
    "]\n",
    "# STEP 3: Run ANOVA test\n",
    "f_stat, p_value = f_oneway(*grouped_margins)\n",
    "\n",
    "print(\"\\nANOVA test results (Margin by Zip Code):\")\n",
    "print(f\"F-statistic: {f_stat:.4f}\")\n",
    "print(f\"P-value: {p_value:.6f}\")\n"
   ]
  },
  {
   "cell_type": "markdown",
   "id": "92d09889",
   "metadata": {},
   "source": [
    " since Since p-value = 0.047 is less than 0.05, we reject the null hypothesis.\n",
    " that means there is a statistically significant difference in margins between Zip Codes.\n",
    " This means that geographic region (Zip Code) does affect profitability, and should be considered in pricing or risk segmentation."
   ]
  },
  {
   "cell_type": "code",
   "execution_count": 12,
   "id": "639b35a5",
   "metadata": {},
   "outputs": [
    {
     "name": "stdout",
     "output_type": "stream",
     "text": [
      "\n",
      "Claim Counts by Gender:\n",
      "Gender\n",
      "female     130\n",
      "male      2643\n",
      "Name: ClaimOccurred, dtype: int64\n",
      "\n",
      "Total Records by Gender:\n",
      "Gender\n",
      "female     65731\n",
      "male      932712\n",
      "Name: ClaimOccurred, dtype: int64\n",
      "\n",
      "Z-Test for Claim Frequency by Gender:\n",
      "Z-statistic: 4.0301\n",
      "P-value: 0.000056\n"
     ]
    }
   ],
   "source": [
    "#Hypothesis 4: Gender-based risk differences?\n",
    "# What We're Testing:\n",
    "# H₀ (Null Hypothesis):\n",
    "# H₀:There are not significant risk difference between Women and Men\n",
    "\"\"\" Use ClaimOccurred as our KPI again\n",
    "It’s a binary outcome: 1 = claim filed, 0 = no claim\n",
    "We're comparing 2 groups: Male vs Female\n",
    "➤ Best test: Z-test for proportions\"\"\"\n",
    "from statsmodels.stats.proportion import proportions_ztest\n",
    "# STEP 1: Filter only Male and Female rows (ignore Unknown/Not specified)\n",
    "df_gender = df[df[\"Gender\"].isin([\"male\", \"female\"])]\n",
    "# STEP 2: Count number of claims and totals by gender\n",
    "claim_counts = df_gender.groupby(\"Gender\")[\"ClaimOccurred\"].sum()\n",
    "total_counts = df_gender.groupby(\"Gender\")[\"ClaimOccurred\"].count()\n",
    "print(\"\\nClaim Counts by Gender:\")\n",
    "print(claim_counts)\n",
    "print(\"\\nTotal Records by Gender:\")\n",
    "print(total_counts)\n",
    "# STEP 3: Run Z-test for proportions\n",
    "count = np.array([claim_counts[\"male\"], claim_counts[\"female\"]])\n",
    "nobs = np.array([total_counts[\"male\"], total_counts[\"female\"]])\n",
    "stat, p_value = proportions_ztest(count, nobs)\n",
    "print(\"\\nZ-Test for Claim Frequency by Gender:\")\n",
    "print(f\"Z-statistic: {stat:.4f}\")\n",
    "print(f\"P-value: {p_value:.6f}\")"
   ]
  },
  {
   "cell_type": "code",
   "execution_count": null,
   "id": "649f6a28",
   "metadata": {},
   "outputs": [],
   "source": [
    "# so since the p-value is 0.000066, which is less than 0.05, we reject the null hypothesis.\n",
    "# There is a statistically significant difference in claim frequency\n"
   ]
  },
  {
   "cell_type": "markdown",
   "id": "f86e5584",
   "metadata": {},
   "source": [
    "# Experimental Hypothesis Testing Workflow\n"
   ]
  },
  {
   "cell_type": "markdown",
   "id": "4bb08757",
   "metadata": {},
   "source": [
    " TotalClaims > 0 risk of filing a claim (binary classification)\n",
    "\n",
    " we are just Choosing a quantitative metric (KPI) that will reflect the impact of the feature we will be testing.\n",
    "\n",
    "Do people with tracking devices file fewer claims than those without\n",
    "\n",
    "our goal here is to test whether having a TrackingDevice reduces the risk of filing a claim.\n",
    "\n",
    "| Step                   | Example                     |\n",
    "| ---------------------- | --------------------------- |\n",
    "| Pick a feature         | TrackingDevice              |\n",
    "| Divide into two groups | \"Yes\" vs. \"No\"              |\n",
    "| Choose a KPI           | ClaimOccurred (0/1)         |\n",
    "| Run a test (Z-test)    | Compare the two claim rates |\n",
    "| Check p-value          | Is it below 0.05?           |\n",
    "| Business insight       | “Does it reduce claims?”    |\n",
    "\n",
    "\n",
    "what we are really doing \n",
    "What Were We Doing?\n",
    "We were simulating a basic A/B test, like this:\n",
    "“Does having a Tracking Device reduce the chance of an insurance claim?”\n",
    "To answer that, we:\n",
    "Grouped the data into:\n",
    "Group A: People without a tracking device\n",
    "Group B: People with a tracking device\n",
    "Compared their Claim Rates (how many people filed a claim)\n",
    "Ran a statistical test to check:\n",
    "“Are the differences just random or really significant?”\n",
    "\n"
   ]
  },
  {
   "cell_type": "code",
   "execution_count": null,
   "id": "14b3d381",
   "metadata": {},
   "outputs": [
    {
     "name": "stdout",
     "output_type": "stream",
     "text": [
      "TrackingDevice\n",
      "No     655086\n",
      "Yes    343357\n",
      "Name: count, dtype: int64\n"
     ]
    }
   ],
   "source": [
    "# so next step is choose a feature and segment the data\n",
    "\"\"\"Pick a feature (TrackingDevice, AlarmImmobiliser,newvehicle or CoverType)\n",
    "Then divide the data into:\n",
    "Group A (Control Group) → no feature (e.g., no tracking device)\n",
    "Group B (Test Group) → with feature (e.g., has tracking device)\"\"\"\n",
    "# So our KPI is Claim Frequency\n",
    "df[\"ClaimOccurred\"] = (df[\"TotalClaims\"] > 0).astype(int)\n",
    "# Check values in TrackingDevice column\n",
    "print(df[\"TrackingDevice\"].value_counts())\n"
   ]
  },
  {
   "cell_type": "code",
   "execution_count": 15,
   "id": "516e881a",
   "metadata": {},
   "outputs": [
    {
     "name": "stdout",
     "output_type": "stream",
     "text": [
      "Group A (No tracking): 655086\n",
      "Group B (Has tracking): 343357\n"
     ]
    }
   ],
   "source": [
    "# segment the groups \n",
    "# Drop missing values for fair testing\n",
    "df_tracking = df[df[\"TrackingDevice\"].isin([\"Yes\", \"No\"])]\n",
    "\n",
    "# Control Group: No tracking device\n",
    "group_a = df_tracking[df_tracking[\"TrackingDevice\"] == \"No\"]\n",
    "\n",
    "# Test Group: Has a tracking device\n",
    "group_b = df_tracking[df_tracking[\"TrackingDevice\"] == \"Yes\"]\n",
    "\n",
    "# Print group sizes\n",
    "print(\"Group A (No tracking):\", len(group_a))\n",
    "print(\"Group B (Has tracking):\", len(group_b))\n"
   ]
  },
  {
   "cell_type": "code",
   "execution_count": 16,
   "id": "ad370f1c",
   "metadata": {},
   "outputs": [
    {
     "name": "stdout",
     "output_type": "stream",
     "text": [
      "\n",
      "Z-Test for Claim Frequency by Tracking Device:\n",
      "Z-statistic: 1.0254\n",
      "P-value: 0.305164\n",
      "Fail to reject the null hypothesis: No significant difference in claim frequency with tracking devices.\n"
     ]
    }
   ],
   "source": [
    "# next step is statistical test so we are copairing two groups and their claim frequency \n",
    "# we will use z-test for proportions\n",
    "from statsmodels.stats.proportion import proportions_ztest\n",
    "# Count claims in each group\n",
    "claim_counts = np.array([\n",
    "    group_a[\"ClaimOccurred\"].sum(),  # Total claims in Group A\n",
    "    group_b[\"ClaimOccurred\"].sum()   # Total claims in Group B\n",
    "])\n",
    "# Count total records in each group\n",
    "total_counts = np.array([\n",
    "    len(group_a),  # Total records in Group A\n",
    "    len(group_b)   # Total records in Group B\n",
    "])\n",
    "# Run Z-test for proportions\n",
    "stat, p_value = proportions_ztest(claim_counts, total_counts)\n",
    "print(\"\\nZ-Test for Claim Frequency by Tracking Device:\")\n",
    "print(f\"Z-statistic: {stat:.4f}\")\n",
    "print(f\"P-value: {p_value:.6f}\")\n",
    "# Check if p-value is below 0.05\n",
    "if p_value < 0.05:\n",
    "    print(\"Reject the null hypothesis: Having a tracking device significantly reduces claim frequency.\")\n",
    "else:\n",
    "    print(\"Fail to reject the null hypothesis: No significant difference in claim frequency with tracking devices.\")"
   ]
  },
  {
   "cell_type": "markdown",
   "id": "ecb1e989",
   "metadata": {},
   "source": [
    "# so lets see the diffeence between the two types of tests we have done\n",
    "\n",
    "| Item                          | First 4 Hypotheses                                                          | KPI-Based A/B Test (This one)                                        |\n",
    "| ----------------------------- | --------------------------------------------------------------------------- | -------------------------------------------------------------------- |\n",
    "| **Goal**                   | Check if **natural groups** (e.g. Provinces, Genders) affect risk or margin | Check if a **specific feature** (e.g. Tracking Device) affects a KPI |\n",
    "|  **Group creation**         | Based on categories that already exist                                      | You **manually select** 2 groups: control vs test                    |\n",
    "|  **Test type**              | Chi-squared, ANOVA, z-test                                                  | Often Z-test (binary outcome)                                        |\n",
    "|  **What you measure (KPI)** | Frequency, Severity, Margin                                                 | You pick 1 KPI (e.g. ClaimOccurred)                                  |\n",
    "|  **Thinking style**         | “Is there a pattern in existing data?”                                      | “If I apply a feature, does it change the outcome?”                  |\n",
    "|  **Purpose**                | Discover **natural differences**                                            | Simulate a controlled test of a **feature’s effect**                 |\n",
    "\n",
    "\n",
    "Regular hypothesis testing looks for natural group differences.\n",
    "KPI-based A/B-style testing lets you test a specific feature’s effect in a more controlled way."
   ]
  },
  {
   "cell_type": "code",
   "execution_count": 18,
   "id": "860e2f1d",
   "metadata": {},
   "outputs": [],
   "source": [
    "# additional analysis choose newvehicle as a feature\n",
    "# STEP 1: Check unique values in the NewVehicle column\n",
    "df[\"ClaimOccurred\"] = (df[\"TotalClaims\"] > 0).astype(int)\n"
   ]
  },
  {
   "cell_type": "code",
   "execution_count": 19,
   "id": "dd7ccc14",
   "metadata": {},
   "outputs": [
    {
     "name": "stdout",
     "output_type": "stream",
     "text": [
      "Group A (Old vehicles): 152402\n",
      "Group B (New vehicles): 846041\n",
      "\n",
      "Z-Test for NewVehicle Impact on Claim Frequency:\n",
      "Z-statistic: -4.6145\n",
      "P-value: 0.000004\n",
      " Reject the null hypothesis: NewVehicle status affects claim risk.\n"
     ]
    }
   ],
   "source": [
    "# filter the boolean groups \n",
    "df_nv = df[df[\"NewVehicle\"].isin([True, False])]\n",
    "group_a = df_nv[df_nv[\"NewVehicle\"] == False]\n",
    "group_b = df_nv[df_nv[\"NewVehicle\"] == True]\n",
    "# check group sizes \n",
    "print(\"Group A (Old vehicles):\", len(group_a))\n",
    "print(\"Group B (New vehicles):\", len(group_b))\n",
    "# run z test\n",
    "claim_counts = [group_a[\"ClaimOccurred\"].sum(), group_b[\"ClaimOccurred\"].sum()]\n",
    "group_sizes = [len(group_a), len(group_b)]\n",
    "\n",
    "stat, p_value = proportions_ztest(claim_counts, group_sizes)\n",
    "\n",
    "print(\"\\nZ-Test for NewVehicle Impact on Claim Frequency:\")\n",
    "print(f\"Z-statistic: {stat:.4f}\")\n",
    "print(f\"P-value: {p_value:.6f}\")\n",
    "\n",
    "if p_value < 0.05:\n",
    "    print(\" Reject the null hypothesis: NewVehicle status affects claim risk.\")\n",
    "else:\n",
    "    print(\" Fail to reject the null hypothesis: No significant difference between new and old vehicles.\")\n"
   ]
  },
  {
   "cell_type": "markdown",
   "id": "542a58fa",
   "metadata": {},
   "source": [
    "# so we here we can give the following business insights \n",
    "\n",
    "New cars may be safer, better maintained, or have better security features\n",
    "They may also be treated more cautiously by drivers\n",
    "This can lead to fewer claims\n",
    "Insurers could consider offering discounts for new vehicles, or treat them as lower-risk segment"
   ]
  }
 ],
 "metadata": {
  "kernelspec": {
   "display_name": "myenv310",
   "language": "python",
   "name": "python3"
  },
  "language_info": {
   "codemirror_mode": {
    "name": "ipython",
    "version": 3
   },
   "file_extension": ".py",
   "mimetype": "text/x-python",
   "name": "python",
   "nbconvert_exporter": "python",
   "pygments_lexer": "ipython3",
   "version": "3.10.17"
  }
 },
 "nbformat": 4,
 "nbformat_minor": 5
}
